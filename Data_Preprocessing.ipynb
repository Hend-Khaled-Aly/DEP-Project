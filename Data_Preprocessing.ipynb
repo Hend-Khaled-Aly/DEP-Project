{
 "cells": [
  {
   "cell_type": "markdown",
   "metadata": {},
   "source": [
    "Import necessary libraries"
   ]
  },
  {
   "cell_type": "code",
   "execution_count": 2,
   "metadata": {},
   "outputs": [],
   "source": [
    "import pandas as pd\n",
    "import numpy as np\n",
    "import seaborn as sns\n",
    "import re\n",
    "import matplotlib.pyplot as plt\n",
    "import ast\n",
    "from collections import Counter"
   ]
  },
  {
   "cell_type": "markdown",
   "metadata": {},
   "source": [
    "Load dataset"
   ]
  },
  {
   "cell_type": "code",
   "execution_count": null,
   "metadata": {},
   "outputs": [],
   "source": [
    "jobs_file = \"real_dataset_android.csv\"\n",
    "df = pd.read_csv(jobs_file)\n",
    "pd.set_option('display.max_columns', None) "
   ]
  },
  {
   "cell_type": "markdown",
   "metadata": {},
   "source": [
    "# Data Exploration"
   ]
  },
  {
   "cell_type": "markdown",
   "metadata": {},
   "source": [
    "Display basic information about the dataset"
   ]
  },
  {
   "cell_type": "code",
   "execution_count": null,
   "metadata": {},
   "outputs": [],
   "source": [
    "df.head()  # Preview first few rows"
   ]
  },
  {
   "cell_type": "code",
   "execution_count": null,
   "metadata": {},
   "outputs": [],
   "source": [
    "df.info()  # Overview of dataset structure"
   ]
  },
  {
   "cell_type": "code",
   "execution_count": null,
   "metadata": {},
   "outputs": [],
   "source": [
    "df.isna().sum() # Count of missing values per column\n",
    "# df.isnull().sum()"
   ]
  },
  {
   "cell_type": "code",
   "execution_count": null,
   "metadata": {},
   "outputs": [],
   "source": [
    "df['client_location'].unique()"
   ]
  },
  {
   "cell_type": "code",
   "execution_count": null,
   "metadata": {},
   "outputs": [],
   "source": [
    "df.work_hours.value_counts()"
   ]
  },
  {
   "cell_type": "code",
   "execution_count": null,
   "metadata": {},
   "outputs": [],
   "source": [
    "df.duration.value_counts()"
   ]
  },
  {
   "cell_type": "code",
   "execution_count": null,
   "metadata": {},
   "outputs": [],
   "source": [
    "df.proposals.value_counts()"
   ]
  },
  {
   "cell_type": "code",
   "execution_count": null,
   "metadata": {},
   "outputs": [],
   "source": [
    "df.experience_level.value_counts()"
   ]
  },
  {
   "cell_type": "code",
   "execution_count": null,
   "metadata": {},
   "outputs": [],
   "source": [
    "df.job_type.value_counts()"
   ]
  },
  {
   "cell_type": "code",
   "execution_count": null,
   "metadata": {},
   "outputs": [],
   "source": [
    "df.location.value_counts()"
   ]
  },
  {
   "cell_type": "markdown",
   "metadata": {},
   "source": [
    "# Data Preprocessing"
   ]
  },
  {
   "cell_type": "code",
   "execution_count": null,
   "metadata": {},
   "outputs": [],
   "source": [
    "print(f'Number of Records: {df.shape[0]}')\n",
    "df = df.dropna(subset='title')\n",
    "df = df.drop_duplicates(subset='title', keep='first')\n",
    "print(f'Number of Records (after dropping NaNs and duplicates): {df.shape[0]}')"
   ]
  },
  {
   "cell_type": "markdown",
   "metadata": {},
   "source": [
    "Drop unnecessary columns"
   ]
  },
  {
   "cell_type": "code",
   "execution_count": null,
   "metadata": {},
   "outputs": [],
   "source": [
    "df.drop(columns=['location', 'client_industry', 'client_type'], inplace=True)"
   ]
  },
  {
   "cell_type": "markdown",
   "metadata": {},
   "source": [
    "Drop duplicates and clean missing values"
   ]
  },
  {
   "cell_type": "code",
   "execution_count": null,
   "metadata": {},
   "outputs": [],
   "source": [
    "df.dropna(subset=[\"title\"], inplace=True)  # Remove rows where title is missing\n",
    "df.drop_duplicates(subset=[\"title\"], inplace=True)  # Remove duplicate job titles\n",
    "df = df.dropna(subset=['min_budget', 'client_location', 'proposals','interviewing', 'invites_sent', 'unanswered_invites']).reset_index(drop=True)"
   ]
  },
  {
   "cell_type": "markdown",
   "metadata": {},
   "source": [
    "Filter out inconsistent job records"
   ]
  },
  {
   "cell_type": "code",
   "execution_count": null,
   "metadata": {},
   "outputs": [],
   "source": [
    "df = df[~((df['work_hours'].isna()) & \n",
    "          ~(df['max_budget'].isna() & df['duration'].isna() & df['work_hours'].isna() & \n",
    "            (df['job_type'] == 'Fixed-price')))]"
   ]
  },
  {
   "cell_type": "markdown",
   "metadata": {},
   "source": [
    "Drop rows where all specified columns have missing values"
   ]
  },
  {
   "cell_type": "code",
   "execution_count": null,
   "metadata": {},
   "outputs": [],
   "source": [
    "df.dropna(subset=['min_budget', 'fixed_price'], how='all', inplace=True)\n",
    "df.dropna(subset=['proposals', 'interviewing', 'invites_sent', 'unanswered_invites'], how='all', inplace=True)\n",
    "df.dropna(subset=['interviewing'], inplace=True)"
   ]
  },
  {
   "cell_type": "markdown",
   "metadata": {},
   "source": [
    "Convert budget columns from string to numeric"
   ]
  },
  {
   "cell_type": "code",
   "execution_count": null,
   "metadata": {},
   "outputs": [],
   "source": [
    "df['min_budget'] = df['min_budget'].replace('[\\$,]', '', regex=True).astype(float)\n",
    "df['max_budget'] = df['max_budget'].replace('[\\$,]', '', regex=True).astype(float)"
   ]
  },
  {
   "cell_type": "markdown",
   "metadata": {},
   "source": [
    "Function to calculate average budget"
   ]
  },
  {
   "cell_type": "code",
   "execution_count": null,
   "metadata": {},
   "outputs": [],
   "source": [
    "def calculate_average(row):\n",
    "    \"\"\"\n",
    "    Calculates the average budget for a job post.\n",
    "\n",
    "    Args:\n",
    "        row (pd.Series): A row of the DataFrame containing min and max budgets.\n",
    "\n",
    "    Returns:\n",
    "        float: The average budget if max_budget exists; otherwise, min_budget.\n",
    "    \"\"\"\n",
    "    if pd.notna(row['max_budget']):\n",
    "        return (row['min_budget'] + row['max_budget']) / 2\n",
    "    return row['min_budget']\n"
   ]
  },
  {
   "cell_type": "code",
   "execution_count": null,
   "metadata": {},
   "outputs": [],
   "source": [
    "# Apply the function to compute the average budget\n",
    "df['average_budget'] = df.apply(calculate_average, axis=1)"
   ]
  },
  {
   "cell_type": "code",
   "execution_count": null,
   "metadata": {},
   "outputs": [],
   "source": [
    "df['duration'] = df.apply(lambda data: 'Not Defined' if pd.isna(data['duration']) and data['job_type'] == 'Fixed-price' else data['duration'], axis=1)\n",
    "df['work_hours'] = df.apply(lambda data: 'Flexible' if pd.isna(data['work_hours']) and data['job_type'] == 'Fixed-price' else data['work_hours'], axis=1)"
   ]
  },
  {
   "cell_type": "markdown",
   "metadata": {},
   "source": [
    "Mapping categorical values to numerical representations"
   ]
  },
  {
   "cell_type": "code",
   "execution_count": null,
   "metadata": {},
   "outputs": [],
   "source": [
    "work_hours_map = {\n",
    "    'Less than 30 hrs/week': 'less_than_30',\n",
    "    'More than 30 hrs/week': 'more_than_30',\n",
    "    'Flexible': 'flexible'\n",
    "}"
   ]
  },
  {
   "cell_type": "code",
   "execution_count": null,
   "metadata": {},
   "outputs": [],
   "source": [
    "duration_map = {\n",
    "    'Not Defined': 0,\n",
    "    '< 1 month': 1,\n",
    "    '1-3 months': 2,\n",
    "    '3-6 months': 3,\n",
    "    '6+ months': 4\n",
    "}\n",
    "\n",
    "df['duration'] = df['duration'].map(duration_map)"
   ]
  },
  {
   "cell_type": "code",
   "execution_count": null,
   "metadata": {},
   "outputs": [],
   "source": [
    "proposal_mapping = {\n",
    "    'Less than 5': 1,\n",
    "    '5 to 10': 2,\n",
    "    '10 to 15': 3,\n",
    "    '15 to 20': 4,\n",
    "    '20 to 50': 5,\n",
    "    '50+': 6\n",
    "}\n",
    "df['proposals'] = df['proposals'].map(proposal_mapping)"
   ]
  },
  {
   "cell_type": "code",
   "execution_count": null,
   "metadata": {},
   "outputs": [],
   "source": [
    "experience_mapping = {\n",
    "    'Entry': 1,\n",
    "    'Intermediate': 2,\n",
    "    'Expert': 3\n",
    "}\n",
    "df['experience_level'] = df['experience_level'].map(experience_mapping)\n"
   ]
  },
  {
   "cell_type": "code",
   "execution_count": null,
   "metadata": {},
   "outputs": [],
   "source": [
    "job_type_mapping = {\n",
    "    'Hourly': 0,\n",
    "    'Fixed-price': 1\n",
    "}\n",
    "df['job_type'] = df['job_type'].map(job_type_mapping)\n"
   ]
  },
  {
   "cell_type": "code",
   "execution_count": null,
   "metadata": {},
   "outputs": [],
   "source": [
    "country_map = {\n",
    "    'USA': 'United States', 'GBR': 'United Kingdom', 'CAN': 'Canada', 'TUN': 'Tunisia',\n",
    "    'ITA': 'Italy', 'FRA': 'France', 'IND': 'India', 'AUS': 'Australia', 'ARE': 'United Arab Emirates',\n",
    "    'IDN': 'Indonesia', 'SGP': 'Singapore', 'PAK': 'Pakistan', 'PRT': 'Portugal', 'MEX': 'Mexico',\n",
    "    'GRC': 'Greece', 'BEL': 'Belgium', 'COL': 'Colombia', 'ISR': 'Israel', 'MKD': 'North Macedonia',\n",
    "    'NGA': 'Nigeria', 'ZAF': 'South Africa', 'MLT': 'Malta', 'LKA': 'Sri Lanka', 'KWT': 'Kuwait',\n",
    "    'IRL': 'Ireland', 'DEU': 'Germany', 'JOR': 'Jordan', 'MYS': 'Malaysia', 'CHE': 'Switzerland',\n",
    "    'CYP': 'Cyprus', 'KOR': 'South Korea', 'BRA': 'Brazil', 'SRB': 'Serbia', 'SWE': 'Sweden',\n",
    "    'PRI': 'Puerto Rico', 'MKD': 'North Macedonia', 'BHR': 'Bahrain', 'TUR': 'Turkey',\n",
    "    'BOL': 'Bolivia', 'PHL': 'Philippines', 'LUX': 'Luxembourg', 'NEP': 'Nepal', 'ARG': 'Argentina'\n",
    "}\n",
    "\n",
    "df['client_location'] = df['client_location'].replace(country_map)"
   ]
  },
  {
   "cell_type": "markdown",
   "metadata": {},
   "source": [
    "One-hot encoding for work hours category"
   ]
  },
  {
   "cell_type": "code",
   "execution_count": null,
   "metadata": {},
   "outputs": [],
   "source": [
    "df = pd.get_dummies(df, columns=['work_hours'], prefix='work_hours', dtype='int')"
   ]
  },
  {
   "cell_type": "markdown",
   "metadata": {},
   "source": [
    "Function to convert money values (K, M notation) to numerical format"
   ]
  },
  {
   "cell_type": "code",
   "execution_count": null,
   "metadata": {},
   "outputs": [],
   "source": [
    "def convert_money(value):\n",
    "    \"\"\"\n",
    "    Converts monetary values from string format with 'K' or 'M' to float.\n",
    "\n",
    "    Args:\n",
    "        value (str): The monetary value as a string.\n",
    "\n",
    "    Returns:\n",
    "        float: The converted monetary value.\n",
    "    \"\"\"\n",
    "    if pd.isna(value): \n",
    "        return None\n",
    "    value = value.replace(\"$\", \"\")  \n",
    "    if \"K\" in value:\n",
    "        return float(value.replace(\"K\", \"\")) * 1_000  \n",
    "    elif \"M\" in value:\n",
    "        return float(value.replace(\"M\", \"\")) * 1_000_000  \n",
    "    return float(value)"
   ]
  },
  {
   "cell_type": "code",
   "execution_count": null,
   "metadata": {},
   "outputs": [],
   "source": [
    "# Apply money conversion function to the client spending column\n",
    "df['client_total_spent'] = df['client_total_spent'].apply(convert_money)"
   ]
  },
  {
   "cell_type": "code",
   "execution_count": null,
   "metadata": {},
   "outputs": [],
   "source": [
    "# Drop unnecessary budget columns\n",
    "df.drop(columns=['min_budget', 'max_budget', 'fixed_price'], inplace=True)"
   ]
  },
  {
   "cell_type": "markdown",
   "metadata": {},
   "source": [
    "Plot histogram for client_total_spent"
   ]
  },
  {
   "cell_type": "code",
   "execution_count": null,
   "metadata": {},
   "outputs": [],
   "source": [
    "plt.figure(figsize=(12, 5))\n",
    "\n",
    "plt.subplot(1, 2, 1)\n",
    "sns.histplot(df[\"client_total_spent\"], bins=30, kde=True, color='blue')\n",
    "plt.title(\"Histogram of client_total_spent\")\n",
    "\n",
    "plt.show()"
   ]
  },
  {
   "cell_type": "code",
   "execution_count": null,
   "metadata": {},
   "outputs": [],
   "source": [
    "log_client_total_spent = np.log(df['client_total_spent'])"
   ]
  },
  {
   "cell_type": "markdown",
   "metadata": {},
   "source": [
    "Plot histogram for log_client_total_spent"
   ]
  },
  {
   "cell_type": "code",
   "execution_count": null,
   "metadata": {},
   "outputs": [],
   "source": [
    "plt.figure(figsize=(12, 5))\n",
    "\n",
    "plt.subplot(1, 2, 1)\n",
    "sns.histplot(log_client_total_spent, bins=30, kde=True, color='blue')\n",
    "plt.title(\"Histogram of log_client_total_spent\")\n",
    "\n",
    "plt.show()"
   ]
  },
  {
   "cell_type": "code",
   "execution_count": null,
   "metadata": {},
   "outputs": [],
   "source": [
    "log_client_total_spent = log_client_total_spent.fillna(log_client_total_spent.mean())\n",
    "df['reversed_log_client_total_spent'] = np.exp(log_client_total_spent)"
   ]
  },
  {
   "cell_type": "markdown",
   "metadata": {},
   "source": [
    "Plot histogram for reversed_log_client_total_spent"
   ]
  },
  {
   "cell_type": "code",
   "execution_count": null,
   "metadata": {},
   "outputs": [],
   "source": [
    "plt.figure(figsize=(12, 5))\n",
    "\n",
    "plt.subplot(1, 2, 1)\n",
    "sns.histplot(df[\"reversed_log_client_total_spent\"], bins=30, kde=True, color='blue')\n",
    "plt.title(\"Histogram of reversed_log_client_total_spent\")\n",
    "\n",
    "plt.show()"
   ]
  },
  {
   "cell_type": "markdown",
   "metadata": {},
   "source": [
    "Pick 600 Records from Dataset"
   ]
  },
  {
   "cell_type": "code",
   "execution_count": null,
   "metadata": {},
   "outputs": [],
   "source": [
    "null_rows = df[(df['hires'].isnull()) & (df['active'].isnull())]\n",
    "rows_to_drop = df.shape[0] - 600\n",
    "df = df.drop(null_rows.head(rows_to_drop).index).reset_index(drop=True)"
   ]
  },
  {
   "cell_type": "markdown",
   "metadata": {},
   "source": [
    "Preprocess Skills Column"
   ]
  },
  {
   "cell_type": "code",
   "execution_count": null,
   "metadata": {},
   "outputs": [],
   "source": [
    "df['skills'] = df['skills'].apply(ast.literal_eval)\n",
    "\n",
    "skill_counts = Counter(skill for skills in df['skills'] for skill in skills)\n",
    "\n",
    "skill_counts_df = pd.DataFrame(skill_counts.items(), columns=['Skill', 'Count']).sort_values(by='Count', ascending=False)\n",
    "\n",
    "skill_counts_df.head()"
   ]
  },
  {
   "cell_type": "code",
   "execution_count": null,
   "metadata": {},
   "outputs": [],
   "source": [
    "skill_counts_df.to_csv('skill_count.csv', index=False)"
   ]
  },
  {
   "cell_type": "markdown",
   "metadata": {},
   "source": [
    "Insert a new column for job category (track)"
   ]
  },
  {
   "cell_type": "code",
   "execution_count": null,
   "metadata": {},
   "outputs": [],
   "source": [
    "track_name = \"android_developer\"\n",
    "df.insert(0, \"track_name\", track_name)"
   ]
  },
  {
   "cell_type": "markdown",
   "metadata": {},
   "source": [
    "Final Check of Dataset"
   ]
  },
  {
   "cell_type": "code",
   "execution_count": null,
   "metadata": {},
   "outputs": [],
   "source": [
    "df.head()"
   ]
  },
  {
   "cell_type": "code",
   "execution_count": null,
   "metadata": {},
   "outputs": [],
   "source": [
    "df.info(verbose=True)"
   ]
  },
  {
   "cell_type": "code",
   "execution_count": null,
   "metadata": {},
   "outputs": [],
   "source": [
    "df.isnull().sum()"
   ]
  },
  {
   "cell_type": "markdown",
   "metadata": {},
   "source": [
    "Save CSV File"
   ]
  },
  {
   "cell_type": "code",
   "execution_count": null,
   "metadata": {},
   "outputs": [],
   "source": [
    "track = 'AD'\n",
    "df.to_csv(f'preprocessed_{track}.csv', index=False)"
   ]
  },
  {
   "cell_type": "code",
   "execution_count": null,
   "metadata": {},
   "outputs": [],
   "source": [
    "df.shape"
   ]
  },
  {
   "cell_type": "markdown",
   "metadata": {},
   "source": [
    "# Trial of Combining DFs"
   ]
  },
  {
   "cell_type": "code",
   "execution_count": 3,
   "metadata": {},
   "outputs": [],
   "source": [
    "df1 = pd.read_csv(\"D:\\DEP-Project-main\\Android_Developer_Scrapped_Data.csv\")\n",
    "df2 = pd.read_csv(\"D:\\DEP-Project-main\\Artificial_Intelligence_Scrapped_Data.csv\")\n",
    "df3 = pd.read_csv(\"D:\\DEP-Project-main\\Data_Analyst_Scrapped_Data.csv\")\n",
    "df4 = pd.read_csv(\"D:\\DEP-Project-main\\Javascript_Developer_Scrapped_Data.csv\")"
   ]
  },
  {
   "cell_type": "code",
   "execution_count": 8,
   "metadata": {},
   "outputs": [
    {
     "name": "stdout",
     "output_type": "stream",
     "text": [
      "<class 'pandas.core.frame.DataFrame'>\n",
      "RangeIndex: 999 entries, 0 to 998\n",
      "Data columns (total 22 columns):\n",
      " #   Column              Non-Null Count  Dtype  \n",
      "---  ------              --------------  -----  \n",
      " 0   track_name          999 non-null    object \n",
      " 1   title               860 non-null    object \n",
      " 2   url                 999 non-null    object \n",
      " 3   job_type            860 non-null    object \n",
      " 4   client_location     860 non-null    object \n",
      " 5   description         860 non-null    object \n",
      " 6   min_budget          717 non-null    object \n",
      " 7   max_budget          290 non-null    object \n",
      " 8   fixed_price         860 non-null    object \n",
      " 9   experience_level    996 non-null    object \n",
      " 10  skills              999 non-null    object \n",
      " 11  proposals           858 non-null    object \n",
      " 12  interviewing        853 non-null    float64\n",
      " 13  invites_sent        858 non-null    float64\n",
      " 14  unanswered_invites  858 non-null    float64\n",
      " 15  client_total_spent  441 non-null    object \n",
      " 16  duration            440 non-null    object \n",
      " 17  work_hours          396 non-null    object \n",
      " 18  hires               485 non-null    float64\n",
      " 19  active              485 non-null    float64\n",
      " 20  client_industry     337 non-null    object \n",
      " 21  client_type         428 non-null    object \n",
      "dtypes: float64(5), object(17)\n",
      "memory usage: 171.8+ KB\n"
     ]
    }
   ],
   "source": [
    "df1.info()"
   ]
  },
  {
   "cell_type": "code",
   "execution_count": 13,
   "metadata": {},
   "outputs": [],
   "source": [
    "df1 = df1.drop(columns=['client_industry','client_type'])"
   ]
  },
  {
   "cell_type": "code",
   "execution_count": 14,
   "metadata": {},
   "outputs": [
    {
     "name": "stdout",
     "output_type": "stream",
     "text": [
      "<class 'pandas.core.frame.DataFrame'>\n",
      "RangeIndex: 999 entries, 0 to 998\n",
      "Data columns (total 20 columns):\n",
      " #   Column              Non-Null Count  Dtype  \n",
      "---  ------              --------------  -----  \n",
      " 0   track_name          999 non-null    object \n",
      " 1   title               860 non-null    object \n",
      " 2   url                 999 non-null    object \n",
      " 3   job_type            860 non-null    object \n",
      " 4   client_location     860 non-null    object \n",
      " 5   description         860 non-null    object \n",
      " 6   min_budget          717 non-null    object \n",
      " 7   max_budget          290 non-null    object \n",
      " 8   fixed_price         860 non-null    object \n",
      " 9   experience_level    996 non-null    object \n",
      " 10  skills              999 non-null    object \n",
      " 11  proposals           858 non-null    object \n",
      " 12  interviewing        853 non-null    float64\n",
      " 13  invites_sent        858 non-null    float64\n",
      " 14  unanswered_invites  858 non-null    float64\n",
      " 15  client_total_spent  441 non-null    object \n",
      " 16  duration            440 non-null    object \n",
      " 17  work_hours          396 non-null    object \n",
      " 18  hires               485 non-null    float64\n",
      " 19  active              485 non-null    float64\n",
      "dtypes: float64(5), object(15)\n",
      "memory usage: 156.2+ KB\n"
     ]
    }
   ],
   "source": [
    "df1.info()"
   ]
  },
  {
   "cell_type": "code",
   "execution_count": 9,
   "metadata": {},
   "outputs": [
    {
     "name": "stdout",
     "output_type": "stream",
     "text": [
      "<class 'pandas.core.frame.DataFrame'>\n",
      "RangeIndex: 1000 entries, 0 to 999\n",
      "Data columns (total 20 columns):\n",
      " #   Column              Non-Null Count  Dtype  \n",
      "---  ------              --------------  -----  \n",
      " 0   title               874 non-null    object \n",
      " 1   url                 1000 non-null   object \n",
      " 2   job_type            874 non-null    object \n",
      " 3   location            874 non-null    object \n",
      " 4   description         874 non-null    object \n",
      " 5   min_budget          705 non-null    object \n",
      " 6   max_budget          381 non-null    object \n",
      " 7   fixed_price         705 non-null    object \n",
      " 8   experience_level    997 non-null    object \n",
      " 9   skills              1000 non-null   object \n",
      " 10  duration            558 non-null    object \n",
      " 11  work_hours          512 non-null    object \n",
      " 12  proposals           869 non-null    object \n",
      " 13  interviewing        868 non-null    float64\n",
      " 14  invites_sent        869 non-null    float64\n",
      " 15  unanswered_invites  869 non-null    float64\n",
      " 16  client_total_spent  563 non-null    object \n",
      " 17  client_location     874 non-null    object \n",
      " 18  active              611 non-null    float64\n",
      " 19  hires               611 non-null    float64\n",
      "dtypes: float64(5), object(15)\n",
      "memory usage: 156.4+ KB\n"
     ]
    }
   ],
   "source": [
    "df2.info()"
   ]
  },
  {
   "cell_type": "code",
   "execution_count": 16,
   "metadata": {},
   "outputs": [],
   "source": [
    "df2 = df2.drop(columns=['location'])"
   ]
  },
  {
   "cell_type": "code",
   "execution_count": 18,
   "metadata": {},
   "outputs": [],
   "source": [
    "track_name = \"artificial_intelligence\"\n",
    "df2.insert(0, \"track_name\", track_name)"
   ]
  },
  {
   "cell_type": "code",
   "execution_count": 20,
   "metadata": {},
   "outputs": [
    {
     "name": "stdout",
     "output_type": "stream",
     "text": [
      "<class 'pandas.core.frame.DataFrame'>\n",
      "RangeIndex: 1000 entries, 0 to 999\n",
      "Data columns (total 20 columns):\n",
      " #   Column              Non-Null Count  Dtype  \n",
      "---  ------              --------------  -----  \n",
      " 0   track_name          1000 non-null   object \n",
      " 1   title               874 non-null    object \n",
      " 2   url                 1000 non-null   object \n",
      " 3   job_type            874 non-null    object \n",
      " 4   description         874 non-null    object \n",
      " 5   min_budget          705 non-null    object \n",
      " 6   max_budget          381 non-null    object \n",
      " 7   fixed_price         705 non-null    object \n",
      " 8   experience_level    997 non-null    object \n",
      " 9   skills              1000 non-null   object \n",
      " 10  duration            558 non-null    object \n",
      " 11  work_hours          512 non-null    object \n",
      " 12  proposals           869 non-null    object \n",
      " 13  interviewing        868 non-null    float64\n",
      " 14  invites_sent        869 non-null    float64\n",
      " 15  unanswered_invites  869 non-null    float64\n",
      " 16  client_total_spent  563 non-null    object \n",
      " 17  client_location     874 non-null    object \n",
      " 18  active              611 non-null    float64\n",
      " 19  hires               611 non-null    float64\n",
      "dtypes: float64(5), object(15)\n",
      "memory usage: 156.4+ KB\n"
     ]
    }
   ],
   "source": [
    "df2.info()"
   ]
  },
  {
   "cell_type": "code",
   "execution_count": 10,
   "metadata": {},
   "outputs": [
    {
     "name": "stdout",
     "output_type": "stream",
     "text": [
      "<class 'pandas.core.frame.DataFrame'>\n",
      "RangeIndex: 657 entries, 0 to 656\n",
      "Data columns (total 21 columns):\n",
      " #   Column              Non-Null Count  Dtype  \n",
      "---  ------              --------------  -----  \n",
      " 0   Unnamed: 0          657 non-null    int64  \n",
      " 1   track_name          657 non-null    object \n",
      " 2   title               657 non-null    object \n",
      " 3   url                 657 non-null    object \n",
      " 4   job_type            657 non-null    object \n",
      " 5   description         657 non-null    object \n",
      " 6   experience_level    657 non-null    object \n",
      " 7   skills              657 non-null    object \n",
      " 8   proposals           657 non-null    object \n",
      " 9   interviewing        657 non-null    float64\n",
      " 10  invites_sent        657 non-null    float64\n",
      " 11  unanswered_invites  657 non-null    float64\n",
      " 12  client_total_spent  657 non-null    object \n",
      " 13  duration            657 non-null    int64  \n",
      " 14  client_location     657 non-null    object \n",
      " 15  active              508 non-null    float64\n",
      " 16  hire                508 non-null    float64\n",
      " 17  avg_budget          657 non-null    float64\n",
      " 18  less_than_30        657 non-null    int64  \n",
      " 19  more_than_30        657 non-null    int64  \n",
      " 20  flexible            657 non-null    int64  \n",
      "dtypes: float64(6), int64(5), object(10)\n",
      "memory usage: 107.9+ KB\n"
     ]
    }
   ],
   "source": [
    "df3.info()"
   ]
  },
  {
   "cell_type": "code",
   "execution_count": 11,
   "metadata": {},
   "outputs": [
    {
     "name": "stdout",
     "output_type": "stream",
     "text": [
      "<class 'pandas.core.frame.DataFrame'>\n",
      "RangeIndex: 1000 entries, 0 to 999\n",
      "Data columns (total 22 columns):\n",
      " #   Column              Non-Null Count  Dtype  \n",
      "---  ------              --------------  -----  \n",
      " 0   title               893 non-null    object \n",
      " 1   url                 1000 non-null   object \n",
      " 2   job_type            893 non-null    object \n",
      " 3   location            893 non-null    object \n",
      " 4   description         893 non-null    object \n",
      " 5   min_budget          745 non-null    object \n",
      " 6   max_budget          377 non-null    object \n",
      " 7   fixed_price         745 non-null    object \n",
      " 8   experience_level    1000 non-null   object \n",
      " 9   skills              1000 non-null   object \n",
      " 10  proposals           890 non-null    object \n",
      " 11  interviewing        890 non-null    float64\n",
      " 12  invites_sent        890 non-null    float64\n",
      " 13  unanswered_invites  890 non-null    float64\n",
      " 14  client_total_spent  570 non-null    object \n",
      " 15  duration            531 non-null    object \n",
      " 16  work_hours          494 non-null    object \n",
      " 17  hires               541 non-null    float64\n",
      " 18  active              541 non-null    float64\n",
      " 19  client_location     891 non-null    object \n",
      " 20  client_industry     358 non-null    object \n",
      " 21  client_type         479 non-null    object \n",
      "dtypes: float64(5), object(17)\n",
      "memory usage: 172.0+ KB\n"
     ]
    }
   ],
   "source": [
    "df4.info()"
   ]
  },
  {
   "cell_type": "code",
   "execution_count": 21,
   "metadata": {},
   "outputs": [],
   "source": [
    "df4 = df4.drop(columns=['client_industry','client_type'])"
   ]
  },
  {
   "cell_type": "code",
   "execution_count": 23,
   "metadata": {},
   "outputs": [],
   "source": [
    "track_name = \"javascript_developer\"\n",
    "df4.insert(0, \"track_name\", \"javascript_developer\")"
   ]
  },
  {
   "cell_type": "code",
   "execution_count": 26,
   "metadata": {},
   "outputs": [
    {
     "name": "stdout",
     "output_type": "stream",
     "text": [
      "<class 'pandas.core.frame.DataFrame'>\n",
      "RangeIndex: 1000 entries, 0 to 999\n",
      "Data columns (total 20 columns):\n",
      " #   Column              Non-Null Count  Dtype  \n",
      "---  ------              --------------  -----  \n",
      " 0   track_name          1000 non-null   object \n",
      " 1   title               893 non-null    object \n",
      " 2   url                 1000 non-null   object \n",
      " 3   job_type            893 non-null    object \n",
      " 4   description         893 non-null    object \n",
      " 5   min_budget          745 non-null    object \n",
      " 6   max_budget          377 non-null    object \n",
      " 7   fixed_price         745 non-null    object \n",
      " 8   experience_level    1000 non-null   object \n",
      " 9   skills              1000 non-null   object \n",
      " 10  proposals           890 non-null    object \n",
      " 11  interviewing        890 non-null    float64\n",
      " 12  invites_sent        890 non-null    float64\n",
      " 13  unanswered_invites  890 non-null    float64\n",
      " 14  client_total_spent  570 non-null    object \n",
      " 15  duration            531 non-null    object \n",
      " 16  work_hours          494 non-null    object \n",
      " 17  hires               541 non-null    float64\n",
      " 18  active              541 non-null    float64\n",
      " 19  client_location     891 non-null    object \n",
      "dtypes: float64(5), object(15)\n",
      "memory usage: 156.4+ KB\n"
     ]
    }
   ],
   "source": [
    "df4.info()"
   ]
  },
  {
   "cell_type": "code",
   "execution_count": 25,
   "metadata": {},
   "outputs": [],
   "source": [
    "df4 = df4.drop(columns=['location'])"
   ]
  },
  {
   "cell_type": "code",
   "execution_count": 27,
   "metadata": {},
   "outputs": [],
   "source": [
    "df_combined = pd.concat([df1, df2,df4], ignore_index=True)"
   ]
  },
  {
   "cell_type": "code",
   "execution_count": 28,
   "metadata": {},
   "outputs": [
    {
     "name": "stdout",
     "output_type": "stream",
     "text": [
      "<class 'pandas.core.frame.DataFrame'>\n",
      "RangeIndex: 2999 entries, 0 to 2998\n",
      "Data columns (total 20 columns):\n",
      " #   Column              Non-Null Count  Dtype  \n",
      "---  ------              --------------  -----  \n",
      " 0   track_name          2999 non-null   object \n",
      " 1   title               2627 non-null   object \n",
      " 2   url                 2999 non-null   object \n",
      " 3   job_type            2627 non-null   object \n",
      " 4   client_location     2625 non-null   object \n",
      " 5   description         2627 non-null   object \n",
      " 6   min_budget          2167 non-null   object \n",
      " 7   max_budget          1048 non-null   object \n",
      " 8   fixed_price         2310 non-null   object \n",
      " 9   experience_level    2993 non-null   object \n",
      " 10  skills              2999 non-null   object \n",
      " 11  proposals           2617 non-null   object \n",
      " 12  interviewing        2611 non-null   float64\n",
      " 13  invites_sent        2617 non-null   float64\n",
      " 14  unanswered_invites  2617 non-null   float64\n",
      " 15  client_total_spent  1574 non-null   object \n",
      " 16  duration            1529 non-null   object \n",
      " 17  work_hours          1402 non-null   object \n",
      " 18  hires               1637 non-null   float64\n",
      " 19  active              1637 non-null   float64\n",
      "dtypes: float64(5), object(15)\n",
      "memory usage: 468.7+ KB\n"
     ]
    }
   ],
   "source": [
    "df_combined.info()"
   ]
  },
  {
   "cell_type": "code",
   "execution_count": 29,
   "metadata": {},
   "outputs": [
    {
     "data": {
      "text/html": [
       "<div>\n",
       "<style scoped>\n",
       "    .dataframe tbody tr th:only-of-type {\n",
       "        vertical-align: middle;\n",
       "    }\n",
       "\n",
       "    .dataframe tbody tr th {\n",
       "        vertical-align: top;\n",
       "    }\n",
       "\n",
       "    .dataframe thead th {\n",
       "        text-align: right;\n",
       "    }\n",
       "</style>\n",
       "<table border=\"1\" class=\"dataframe\">\n",
       "  <thead>\n",
       "    <tr style=\"text-align: right;\">\n",
       "      <th></th>\n",
       "      <th>track_name</th>\n",
       "      <th>title</th>\n",
       "      <th>url</th>\n",
       "      <th>job_type</th>\n",
       "      <th>client_location</th>\n",
       "      <th>description</th>\n",
       "      <th>min_budget</th>\n",
       "      <th>max_budget</th>\n",
       "      <th>fixed_price</th>\n",
       "      <th>experience_level</th>\n",
       "      <th>skills</th>\n",
       "      <th>proposals</th>\n",
       "      <th>interviewing</th>\n",
       "      <th>invites_sent</th>\n",
       "      <th>unanswered_invites</th>\n",
       "      <th>client_total_spent</th>\n",
       "      <th>duration</th>\n",
       "      <th>work_hours</th>\n",
       "      <th>hires</th>\n",
       "      <th>active</th>\n",
       "    </tr>\n",
       "  </thead>\n",
       "  <tbody>\n",
       "    <tr>\n",
       "      <th>0</th>\n",
       "      <td>android_developer</td>\n",
       "      <td>Deploy Flutter Application with Laravel Backen...</td>\n",
       "      <td>https://www.upwork.com/jobs/Deploy-Flutter-App...</td>\n",
       "      <td>Fixed-price</td>\n",
       "      <td>Morocco</td>\n",
       "      <td>We are looking for an experienced developer to...</td>\n",
       "      <td>$15.00</td>\n",
       "      <td>NaN</td>\n",
       "      <td>['$15.00']</td>\n",
       "      <td>Expert</td>\n",
       "      <td>['Flutter', 'MySQL', 'Laravel', 'PHP']</td>\n",
       "      <td>NaN</td>\n",
       "      <td>NaN</td>\n",
       "      <td>NaN</td>\n",
       "      <td>NaN</td>\n",
       "      <td>NaN</td>\n",
       "      <td>NaN</td>\n",
       "      <td>NaN</td>\n",
       "      <td>1.0</td>\n",
       "      <td>1.0</td>\n",
       "    </tr>\n",
       "    <tr>\n",
       "      <th>1</th>\n",
       "      <td>android_developer</td>\n",
       "      <td>NaN</td>\n",
       "      <td>https://www.upwork.com/jobs/Hybrid-mobile-apps...</td>\n",
       "      <td>NaN</td>\n",
       "      <td>NaN</td>\n",
       "      <td>NaN</td>\n",
       "      <td>NaN</td>\n",
       "      <td>NaN</td>\n",
       "      <td>NaN</td>\n",
       "      <td>Expert</td>\n",
       "      <td>[]</td>\n",
       "      <td>NaN</td>\n",
       "      <td>NaN</td>\n",
       "      <td>NaN</td>\n",
       "      <td>NaN</td>\n",
       "      <td>NaN</td>\n",
       "      <td>NaN</td>\n",
       "      <td>NaN</td>\n",
       "      <td>NaN</td>\n",
       "      <td>NaN</td>\n",
       "    </tr>\n",
       "    <tr>\n",
       "      <th>2</th>\n",
       "      <td>android_developer</td>\n",
       "      <td>Create simple Web App for taxi business for cu...</td>\n",
       "      <td>https://www.upwork.com/jobs/Create-simple-Web-...</td>\n",
       "      <td>Fixed-price</td>\n",
       "      <td>Australia</td>\n",
       "      <td>Web App Development: Online Taxi Booking Syste...</td>\n",
       "      <td>$50.00</td>\n",
       "      <td>NaN</td>\n",
       "      <td>['$50.00', '']</td>\n",
       "      <td>Expert</td>\n",
       "      <td>['Web Application', 'C#', 'JavaScript', 'PHP',...</td>\n",
       "      <td>5 to 10</td>\n",
       "      <td>2.0</td>\n",
       "      <td>0.0</td>\n",
       "      <td>0.0</td>\n",
       "      <td>$1.4K</td>\n",
       "      <td>NaN</td>\n",
       "      <td>NaN</td>\n",
       "      <td>43.0</td>\n",
       "      <td>19.0</td>\n",
       "    </tr>\n",
       "    <tr>\n",
       "      <th>3</th>\n",
       "      <td>android_developer</td>\n",
       "      <td>Mobile App Developer</td>\n",
       "      <td>https://www.upwork.com/jobs/Mobile-App-span-cl...</td>\n",
       "      <td>Fixed-price</td>\n",
       "      <td>Switzerland</td>\n",
       "      <td>to build a fully functional mobile application...</td>\n",
       "      <td>$5,000.00</td>\n",
       "      <td>NaN</td>\n",
       "      <td>['$5,000.00', '']</td>\n",
       "      <td>Expert</td>\n",
       "      <td>['Google Play', 'AI Mobile App Development', '...</td>\n",
       "      <td>50+</td>\n",
       "      <td>0.0</td>\n",
       "      <td>0.0</td>\n",
       "      <td>0.0</td>\n",
       "      <td>$6.4K</td>\n",
       "      <td>NaN</td>\n",
       "      <td>NaN</td>\n",
       "      <td>5.0</td>\n",
       "      <td>0.0</td>\n",
       "    </tr>\n",
       "    <tr>\n",
       "      <th>4</th>\n",
       "      <td>android_developer</td>\n",
       "      <td>UI Design for Mobile App</td>\n",
       "      <td>https://www.upwork.com/jobs/Design-for-Mobile-...</td>\n",
       "      <td>Fixed-price</td>\n",
       "      <td>India</td>\n",
       "      <td>We are seeking a talented UI designer to creat...</td>\n",
       "      <td>$100.00</td>\n",
       "      <td>NaN</td>\n",
       "      <td>['$100.00', '']</td>\n",
       "      <td>Intermediate</td>\n",
       "      <td>['Mobile UI Design', 'Figma', 'Responsive Desi...</td>\n",
       "      <td>5 to 10</td>\n",
       "      <td>0.0</td>\n",
       "      <td>0.0</td>\n",
       "      <td>0.0</td>\n",
       "      <td>NaN</td>\n",
       "      <td>NaN</td>\n",
       "      <td>NaN</td>\n",
       "      <td>NaN</td>\n",
       "      <td>NaN</td>\n",
       "    </tr>\n",
       "  </tbody>\n",
       "</table>\n",
       "</div>"
      ],
      "text/plain": [
       "          track_name                                              title  \\\n",
       "0  android_developer  Deploy Flutter Application with Laravel Backen...   \n",
       "1  android_developer                                                NaN   \n",
       "2  android_developer  Create simple Web App for taxi business for cu...   \n",
       "3  android_developer                               Mobile App Developer   \n",
       "4  android_developer                           UI Design for Mobile App   \n",
       "\n",
       "                                                 url     job_type  \\\n",
       "0  https://www.upwork.com/jobs/Deploy-Flutter-App...  Fixed-price   \n",
       "1  https://www.upwork.com/jobs/Hybrid-mobile-apps...          NaN   \n",
       "2  https://www.upwork.com/jobs/Create-simple-Web-...  Fixed-price   \n",
       "3  https://www.upwork.com/jobs/Mobile-App-span-cl...  Fixed-price   \n",
       "4  https://www.upwork.com/jobs/Design-for-Mobile-...  Fixed-price   \n",
       "\n",
       "  client_location                                        description  \\\n",
       "0         Morocco  We are looking for an experienced developer to...   \n",
       "1             NaN                                                NaN   \n",
       "2       Australia  Web App Development: Online Taxi Booking Syste...   \n",
       "3     Switzerland  to build a fully functional mobile application...   \n",
       "4           India  We are seeking a talented UI designer to creat...   \n",
       "\n",
       "  min_budget max_budget        fixed_price experience_level  \\\n",
       "0     $15.00        NaN         ['$15.00']           Expert   \n",
       "1        NaN        NaN                NaN           Expert   \n",
       "2     $50.00        NaN     ['$50.00', '']           Expert   \n",
       "3  $5,000.00        NaN  ['$5,000.00', '']           Expert   \n",
       "4    $100.00        NaN    ['$100.00', '']     Intermediate   \n",
       "\n",
       "                                              skills proposals  interviewing  \\\n",
       "0             ['Flutter', 'MySQL', 'Laravel', 'PHP']       NaN           NaN   \n",
       "1                                                 []       NaN           NaN   \n",
       "2  ['Web Application', 'C#', 'JavaScript', 'PHP',...   5 to 10           2.0   \n",
       "3  ['Google Play', 'AI Mobile App Development', '...       50+           0.0   \n",
       "4  ['Mobile UI Design', 'Figma', 'Responsive Desi...   5 to 10           0.0   \n",
       "\n",
       "   invites_sent  unanswered_invites client_total_spent duration work_hours  \\\n",
       "0           NaN                 NaN                NaN      NaN        NaN   \n",
       "1           NaN                 NaN                NaN      NaN        NaN   \n",
       "2           0.0                 0.0              $1.4K      NaN        NaN   \n",
       "3           0.0                 0.0              $6.4K      NaN        NaN   \n",
       "4           0.0                 0.0                NaN      NaN        NaN   \n",
       "\n",
       "   hires  active  \n",
       "0    1.0     1.0  \n",
       "1    NaN     NaN  \n",
       "2   43.0    19.0  \n",
       "3    5.0     0.0  \n",
       "4    NaN     NaN  "
      ]
     },
     "execution_count": 29,
     "metadata": {},
     "output_type": "execute_result"
    }
   ],
   "source": [
    "df_combined.head()"
   ]
  },
  {
   "cell_type": "code",
   "execution_count": 32,
   "metadata": {},
   "outputs": [
    {
     "data": {
      "text/html": [
       "<div>\n",
       "<style scoped>\n",
       "    .dataframe tbody tr th:only-of-type {\n",
       "        vertical-align: middle;\n",
       "    }\n",
       "\n",
       "    .dataframe tbody tr th {\n",
       "        vertical-align: top;\n",
       "    }\n",
       "\n",
       "    .dataframe thead th {\n",
       "        text-align: right;\n",
       "    }\n",
       "</style>\n",
       "<table border=\"1\" class=\"dataframe\">\n",
       "  <thead>\n",
       "    <tr style=\"text-align: right;\">\n",
       "      <th></th>\n",
       "      <th>track_name</th>\n",
       "      <th>title</th>\n",
       "      <th>url</th>\n",
       "      <th>job_type</th>\n",
       "      <th>client_location</th>\n",
       "      <th>description</th>\n",
       "      <th>min_budget</th>\n",
       "      <th>max_budget</th>\n",
       "      <th>fixed_price</th>\n",
       "      <th>experience_level</th>\n",
       "      <th>skills</th>\n",
       "      <th>proposals</th>\n",
       "      <th>interviewing</th>\n",
       "      <th>invites_sent</th>\n",
       "      <th>unanswered_invites</th>\n",
       "      <th>client_total_spent</th>\n",
       "      <th>duration</th>\n",
       "      <th>work_hours</th>\n",
       "      <th>hires</th>\n",
       "      <th>active</th>\n",
       "    </tr>\n",
       "  </thead>\n",
       "  <tbody>\n",
       "    <tr>\n",
       "      <th>2994</th>\n",
       "      <td>javascript_developer</td>\n",
       "      <td>Bubble.io Webapp Developer</td>\n",
       "      <td>https://www.upwork.com/jobs/Bubble-Webapp-span...</td>\n",
       "      <td>Hourly</td>\n",
       "      <td>United States</td>\n",
       "      <td>Need a bubble.io developer to continue build o...</td>\n",
       "      <td>$8.00</td>\n",
       "      <td>$10.00</td>\n",
       "      <td>['$8.00', '$10.00']</td>\n",
       "      <td>Intermediate</td>\n",
       "      <td>['CSS', 'Database Design', 'MySQL', 'Web Devel...</td>\n",
       "      <td>15 to 20</td>\n",
       "      <td>0.0</td>\n",
       "      <td>0.0</td>\n",
       "      <td>0.0</td>\n",
       "      <td>$30K</td>\n",
       "      <td>1-3 months</td>\n",
       "      <td>Less than 30 hrs/week</td>\n",
       "      <td>69.0</td>\n",
       "      <td>8.0</td>\n",
       "    </tr>\n",
       "    <tr>\n",
       "      <th>2995</th>\n",
       "      <td>javascript_developer</td>\n",
       "      <td>QuickBooks API Integration and Automated Payme...</td>\n",
       "      <td>https://www.upwork.com/jobs/QuickBooks-API-Int...</td>\n",
       "      <td>Fixed-price</td>\n",
       "      <td>PAK</td>\n",
       "      <td>We are looking for a skilled professional to i...</td>\n",
       "      <td>$5,000.00</td>\n",
       "      <td>NaN</td>\n",
       "      <td>['$5,000.00']</td>\n",
       "      <td>Expert</td>\n",
       "      <td>['Web Crawling', 'Automation', 'PHP', 'API', '...</td>\n",
       "      <td>15 to 20</td>\n",
       "      <td>16.0</td>\n",
       "      <td>13.0</td>\n",
       "      <td>4.0</td>\n",
       "      <td>$3.1K</td>\n",
       "      <td>NaN</td>\n",
       "      <td>NaN</td>\n",
       "      <td>42.0</td>\n",
       "      <td>1.0</td>\n",
       "    </tr>\n",
       "    <tr>\n",
       "      <th>2996</th>\n",
       "      <td>javascript_developer</td>\n",
       "      <td>Absorb LMS &amp; Prototype Expert Needed for Project</td>\n",
       "      <td>https://www.upwork.com/jobs/Absorb-LMS-Prototy...</td>\n",
       "      <td>Hourly</td>\n",
       "      <td>Australia</td>\n",
       "      <td>We are seeking an experienced professional wit...</td>\n",
       "      <td>$10.00</td>\n",
       "      <td>$20.00</td>\n",
       "      <td>['$10.00', '$20.00']</td>\n",
       "      <td>Expert</td>\n",
       "      <td>['Game Development', 'Web Development', 'Web D...</td>\n",
       "      <td>10 to 15</td>\n",
       "      <td>2.0</td>\n",
       "      <td>0.0</td>\n",
       "      <td>0.0</td>\n",
       "      <td>$50K</td>\n",
       "      <td>1-3 months</td>\n",
       "      <td>Less than 30 hrs/week</td>\n",
       "      <td>56.0</td>\n",
       "      <td>16.0</td>\n",
       "    </tr>\n",
       "    <tr>\n",
       "      <th>2997</th>\n",
       "      <td>javascript_developer</td>\n",
       "      <td>Laravel &amp; Next.js Developer Needed to Fix UI a...</td>\n",
       "      <td>https://www.upwork.com/jobs/Laravel-amp-Next-s...</td>\n",
       "      <td>Fixed-price</td>\n",
       "      <td>United States</td>\n",
       "      <td>I'm looking for a developer experienced in Lar...</td>\n",
       "      <td>$30.00</td>\n",
       "      <td>NaN</td>\n",
       "      <td>['$30.00']</td>\n",
       "      <td>Intermediate</td>\n",
       "      <td>['CSS', 'Database Design', 'Web Development', ...</td>\n",
       "      <td>10 to 15</td>\n",
       "      <td>1.0</td>\n",
       "      <td>0.0</td>\n",
       "      <td>0.0</td>\n",
       "      <td>$202</td>\n",
       "      <td>NaN</td>\n",
       "      <td>NaN</td>\n",
       "      <td>7.0</td>\n",
       "      <td>0.0</td>\n",
       "    </tr>\n",
       "    <tr>\n",
       "      <th>2998</th>\n",
       "      <td>javascript_developer</td>\n",
       "      <td>Softr.io project</td>\n",
       "      <td>https://www.upwork.com/jobs/Softr-project_~021...</td>\n",
       "      <td>Hourly</td>\n",
       "      <td>Belgium</td>\n",
       "      <td>Hi,\\n\\nWe need to make an easy client portal b...</td>\n",
       "      <td>$3.00</td>\n",
       "      <td>$20.00</td>\n",
       "      <td>['$3.00', '$20.00']</td>\n",
       "      <td>Intermediate</td>\n",
       "      <td>['softr', 'CSS', 'Database Design', 'Web Devel...</td>\n",
       "      <td>5 to 10</td>\n",
       "      <td>6.0</td>\n",
       "      <td>7.0</td>\n",
       "      <td>1.0</td>\n",
       "      <td>$63K</td>\n",
       "      <td>1-3 months</td>\n",
       "      <td>Less than 30 hrs/week</td>\n",
       "      <td>62.0</td>\n",
       "      <td>5.0</td>\n",
       "    </tr>\n",
       "  </tbody>\n",
       "</table>\n",
       "</div>"
      ],
      "text/plain": [
       "                track_name                                              title  \\\n",
       "2994  javascript_developer                         Bubble.io Webapp Developer   \n",
       "2995  javascript_developer  QuickBooks API Integration and Automated Payme...   \n",
       "2996  javascript_developer   Absorb LMS & Prototype Expert Needed for Project   \n",
       "2997  javascript_developer  Laravel & Next.js Developer Needed to Fix UI a...   \n",
       "2998  javascript_developer                                   Softr.io project   \n",
       "\n",
       "                                                    url     job_type  \\\n",
       "2994  https://www.upwork.com/jobs/Bubble-Webapp-span...       Hourly   \n",
       "2995  https://www.upwork.com/jobs/QuickBooks-API-Int...  Fixed-price   \n",
       "2996  https://www.upwork.com/jobs/Absorb-LMS-Prototy...       Hourly   \n",
       "2997  https://www.upwork.com/jobs/Laravel-amp-Next-s...  Fixed-price   \n",
       "2998  https://www.upwork.com/jobs/Softr-project_~021...       Hourly   \n",
       "\n",
       "     client_location                                        description  \\\n",
       "2994   United States  Need a bubble.io developer to continue build o...   \n",
       "2995             PAK  We are looking for a skilled professional to i...   \n",
       "2996       Australia  We are seeking an experienced professional wit...   \n",
       "2997   United States  I'm looking for a developer experienced in Lar...   \n",
       "2998         Belgium  Hi,\\n\\nWe need to make an easy client portal b...   \n",
       "\n",
       "      min_budget max_budget           fixed_price experience_level  \\\n",
       "2994      $8.00     $10.00    ['$8.00', '$10.00']     Intermediate   \n",
       "2995  $5,000.00         NaN         ['$5,000.00']           Expert   \n",
       "2996     $10.00     $20.00   ['$10.00', '$20.00']           Expert   \n",
       "2997     $30.00         NaN            ['$30.00']     Intermediate   \n",
       "2998      $3.00     $20.00    ['$3.00', '$20.00']     Intermediate   \n",
       "\n",
       "                                                 skills proposals  \\\n",
       "2994  ['CSS', 'Database Design', 'MySQL', 'Web Devel...  15 to 20   \n",
       "2995  ['Web Crawling', 'Automation', 'PHP', 'API', '...  15 to 20   \n",
       "2996  ['Game Development', 'Web Development', 'Web D...  10 to 15   \n",
       "2997  ['CSS', 'Database Design', 'Web Development', ...  10 to 15   \n",
       "2998  ['softr', 'CSS', 'Database Design', 'Web Devel...   5 to 10   \n",
       "\n",
       "      interviewing  invites_sent  unanswered_invites client_total_spent  \\\n",
       "2994           0.0           0.0                 0.0               $30K   \n",
       "2995          16.0          13.0                 4.0              $3.1K   \n",
       "2996           2.0           0.0                 0.0               $50K   \n",
       "2997           1.0           0.0                 0.0              $202    \n",
       "2998           6.0           7.0                 1.0               $63K   \n",
       "\n",
       "        duration             work_hours  hires  active  \n",
       "2994  1-3 months  Less than 30 hrs/week   69.0     8.0  \n",
       "2995         NaN                    NaN   42.0     1.0  \n",
       "2996  1-3 months  Less than 30 hrs/week   56.0    16.0  \n",
       "2997         NaN                    NaN    7.0     0.0  \n",
       "2998  1-3 months  Less than 30 hrs/week   62.0     5.0  "
      ]
     },
     "execution_count": 32,
     "metadata": {},
     "output_type": "execute_result"
    }
   ],
   "source": [
    "df_combined.tail()"
   ]
  },
  {
   "cell_type": "code",
   "execution_count": 33,
   "metadata": {},
   "outputs": [],
   "source": [
    "df_combined.to_csv(\"Upwork_Scrapped_Dataset\")"
   ]
  },
  {
   "cell_type": "code",
   "execution_count": null,
   "metadata": {},
   "outputs": [],
   "source": []
  }
 ],
 "metadata": {
  "kernelspec": {
   "display_name": "Python 3",
   "language": "python",
   "name": "python3"
  },
  "language_info": {
   "codemirror_mode": {
    "name": "ipython",
    "version": 3
   },
   "file_extension": ".py",
   "mimetype": "text/x-python",
   "name": "python",
   "nbconvert_exporter": "python",
   "pygments_lexer": "ipython3",
   "version": "3.10.6"
  }
 },
 "nbformat": 4,
 "nbformat_minor": 2
}
